{
 "cells": [
  {
   "cell_type": "code",
   "execution_count": 1,
   "id": "747ed5e7-4cbb-4eba-8753-b260646e93b2",
   "metadata": {},
   "outputs": [],
   "source": [
    "import random\n",
    "import pandas as pd\n",
    "import tkinter as tk\n",
    "from tkinter import filedialog\n",
    "from tkinter import ttk\n",
    "from functools import partial\n",
    "from collections import defaultdict\n",
    "from itertools import combinations"
   ]
  },
  {
   "cell_type": "code",
   "execution_count": 2,
   "id": "bbeed046-453b-49d3-98d9-20407be41c78",
   "metadata": {},
   "outputs": [],
   "source": [
    "def read_percentage_transactions(file_path, percentage):\n",
    "    df = pd.read_csv(file_path)\n",
    "    transactions = df.groupby('TransactionNo')['Items'].apply(list).values.tolist()\n",
    "    sample_size = int(len(transactions) * (percentage / 100))\n",
    "    sampled_transactions = random.sample(transactions, sample_size)\n",
    "    return sampled_transactions"
   ]
  },
  {
   "cell_type": "code",
   "execution_count": 3,
   "id": "38376ca0-a122-4852-89f0-1ab1f01bbe2a",
   "metadata": {},
   "outputs": [],
   "source": [
    "def count_item_occurrences(transactions):\n",
    "    item_counts = defaultdict(int)\n",
    "    for transaction in transactions:\n",
    "        unique_items = set(transaction)\n",
    "        for item in unique_items:\n",
    "            item_counts[item] += 1\n",
    "    return item_counts"
   ]
  },
  {
   "cell_type": "code",
   "execution_count": 4,
   "id": "19345d3b-1451-4bb2-adbc-5123d78eee84",
   "metadata": {},
   "outputs": [],
   "source": [
    "def find_frequent_itemsets(transactions, min_support):\n",
    "    item_counts = count_item_occurrences(transactions)\n",
    "    frequent_items = {item for item, count in item_counts.items() if count >= min_support}\n",
    "    itemsets = [{item} for item in frequent_items]\n",
    "\n",
    "    freq_itemsets = []\n",
    "    while itemsets:\n",
    "        next_itemsets = []\n",
    "        for itemset in itemsets:\n",
    "            transaction_count = sum(1 for transaction in transactions if set(itemset).issubset(set(transaction)))\n",
    "            if transaction_count >= min_support:\n",
    "                freq_itemsets.append((itemset, transaction_count))\n",
    "\n",
    "                for item in frequent_items:\n",
    "                    if item not in itemset:\n",
    "                        candidate_itemset = itemset.union({item})\n",
    "                        if candidate_itemset not in next_itemsets:\n",
    "                            next_itemsets.append(candidate_itemset)\n",
    "\n",
    "        itemsets = next_itemsets\n",
    "\n",
    "    return freq_itemsets"
   ]
  },
  {
   "cell_type": "code",
   "execution_count": 5,
   "id": "0f6f4f57-e2b1-4acb-8967-1e4257221112",
   "metadata": {},
   "outputs": [],
   "source": [
    "def generate_strong_association_rules(freq_itemsets, min_confidence):\n",
    "    strong_rules = []\n",
    "    supports = {}\n",
    "\n",
    "    for items, support in freq_itemsets:\n",
    "        supports[frozenset(items)] = support\n",
    "\n",
    "    for itemset, support in freq_itemsets:\n",
    "        for i in range(1, len(itemset)):\n",
    "            for left_side in combinations(itemset, i):\n",
    "                left_side = frozenset(left_side)  # Convert to frozenset for hashing\n",
    "                right_side = frozenset(itemset - left_side)\n",
    "\n",
    "                left_side_support = supports.get(left_side, 0)\n",
    "                if left_side_support > 0:\n",
    "                    confidence = support / left_side_support\n",
    "                    if confidence >= min_confidence:\n",
    "                        strong_rules.append((set(left_side), set(right_side), confidence))\n",
    "\n",
    "    return strong_rules"
   ]
  },
  {
   "cell_type": "code",
   "execution_count": 6,
   "id": "81c44a68-6775-4b3f-ad69-7d239ba222f0",
   "metadata": {},
   "outputs": [],
   "source": [
    "def run_apriori(file_path, data_percentage, min_support, min_confidence, text_output):\n",
    "    transactions = read_percentage_transactions(file_path, data_percentage)\n",
    "    freq_itemsets = find_frequent_itemsets(transactions, min_support)\n",
    "    rules = generate_strong_association_rules(freq_itemsets, min_confidence)\n",
    "\n",
    "    output_text = \"Frequent Itemsets:\\n\"\n",
    "    for itemset, support_count in freq_itemsets:\n",
    "        output_text += f\"{itemset} (Support Count: {support_count})\\n\"\n",
    "\n",
    "    output_text += \"\\nStrong Association Rules:\\n\"\n",
    "    for left_side, right_side, confidence in rules:\n",
    "        output_text += f\"{left_side} => {right_side} (Confidence: {confidence*100:.2f} %)\\n\"\n",
    "\n",
    "    text_output.insert(tk.END, output_text)"
   ]
  },
  {
   "cell_type": "code",
   "execution_count": 7,
   "id": "d5e6e2c7-04ce-45d6-9bd7-4a1de53274fb",
   "metadata": {},
   "outputs": [],
   "source": [
    "def run_apriori_from_gui(data_percentage_entry, min_support_entry, min_confidence_entry, file_path_entry, text_output):\n",
    "    file_path = file_path_entry.get()\n",
    "    data_percentage = int(data_percentage_entry.get())\n",
    "    min_support = int(min_support_entry.get())\n",
    "    min_confidence = float(min_confidence_entry.get())\n",
    "\n",
    "    try:\n",
    "        text_output.delete(1.0, tk.END)\n",
    "        run_apriori(file_path, data_percentage, min_support, min_confidence, text_output)\n",
    "    except Exception as e:\n",
    "        text_output.insert(tk.END, f\"An error occurred: {str(e)}\")\n",
    "\n",
    "def browse_file(file_path_entry):\n",
    "    file_path = filedialog.askopenfilename(title=\"Select Data File\", filetypes=[(\"CSV files\", \"*.csv\")])\n",
    "    file_path_entry.delete(0, tk.END)\n",
    "    file_path_entry.insert(0, file_path)"
   ]
  },
  {
   "cell_type": "code",
   "execution_count": 8,
   "id": "9352b7c7-cd96-4003-a946-dbc2e2f67a58",
   "metadata": {},
   "outputs": [],
   "source": [
    "def main():\n",
    "    root = tk.Tk()\n",
    "    root.title(\"Association Rule Mining\")\n",
    "    root.geometry(\"650x570\")\n",
    "\n",
    "    frame = ttk.Frame(root, padding=\"20\")\n",
    "    frame.grid(column=0, row=0, sticky=(tk.W, tk.E, tk.N, tk.S))\n",
    "\n",
    "    ttk.Label(frame, text=\"Minimum Support:\").grid(column=0, row=0, sticky=tk.W, pady=5)\n",
    "    min_support_entry = ttk.Entry(frame)\n",
    "    min_support_entry.grid(column=1, row=0, pady=5)\n",
    "\n",
    "    ttk.Label(frame, text=\"Minimum Confidence:\").grid(column=0, row=1, sticky=tk.W, pady=5)\n",
    "    min_confidence_entry = ttk.Entry(frame)\n",
    "    min_confidence_entry.grid(column=1, row=1, pady=5)\n",
    "\n",
    "    ttk.Label(frame, text=\"Data percentage to use (1-100):\").grid(column=0, row=2, sticky=tk.W, pady=5)\n",
    "    data_percentage_entry = ttk.Entry(frame)\n",
    "    data_percentage_entry.grid(column=1, row=2, pady=5)\n",
    "\n",
    "    ttk.Label(frame, text=\"File Path:\").grid(column=0, row=3, sticky=tk.W, pady=5)  # Add label for file path\n",
    "    file_path_entry = ttk.Entry(frame)\n",
    "    file_path_entry.grid(column=1, row=3, pady=5)\n",
    "\n",
    "    browse_button = ttk.Button(frame, text=\"Browse\", command=lambda: browse_file(file_path_entry))\n",
    "    browse_button.grid(column=2, row=3, pady=5)\n",
    "\n",
    "    text_output = tk.Text(root, wrap=\"word\", width=80, height=20, font=(\"Helvetica\", 10))\n",
    "    text_output.grid(column=0, row=1, columnspan=2, padx=20, pady=10)\n",
    "\n",
    "    run_button = ttk.Button(frame, text=\"Run Apriori\", command=partial(run_apriori_from_gui, data_percentage_entry, min_support_entry, min_confidence_entry, file_path_entry, text_output))\n",
    "    run_button.grid(column=0, row=4, columnspan=2, pady=10)\n",
    "\n",
    "    root.mainloop()\n",
    "\n",
    "if __name__ == \"__main__\":\n",
    "    main()\n"
   ]
  },
  {
   "cell_type": "code",
   "execution_count": null,
   "id": "e83a9467-cabe-44a2-a3ae-3c333cc04322",
   "metadata": {},
   "outputs": [],
   "source": []
  }
 ],
 "metadata": {
  "kernelspec": {
   "display_name": "Python 3 (ipykernel)",
   "language": "python",
   "name": "python3"
  },
  "language_info": {
   "codemirror_mode": {
    "name": "ipython",
    "version": 3
   },
   "file_extension": ".py",
   "mimetype": "text/x-python",
   "name": "python",
   "nbconvert_exporter": "python",
   "pygments_lexer": "ipython3",
   "version": "3.11.6"
  }
 },
 "nbformat": 4,
 "nbformat_minor": 5
}
